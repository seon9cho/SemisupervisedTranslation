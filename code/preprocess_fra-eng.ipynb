{
 "cells": [
  {
   "cell_type": "code",
   "execution_count": 1,
   "metadata": {},
   "outputs": [],
   "source": [
    "import unidecode\n",
    "import re\n",
    "import string"
   ]
  },
  {
   "cell_type": "code",
   "execution_count": 2,
   "metadata": {},
   "outputs": [],
   "source": [
    "with open(\"../raw/fra-eng/fra.txt\", 'r', encoding='utf-8') as f:\n",
    "    lines = f.read().strip().split('\\n')"
   ]
  },
  {
   "cell_type": "code",
   "execution_count": 3,
   "metadata": {},
   "outputs": [],
   "source": [
    "def normalizeString(s):\n",
    "    s = unidecode.unidecode(s.lower().strip())\n",
    "    s = re.sub(r\"([.!?])\", r\" \\1\", s)\n",
    "    s = re.sub(r\"[^a-zA-Z.!?]+\", r\" \", s)\n",
    "    return s"
   ]
  },
  {
   "cell_type": "code",
   "execution_count": 4,
   "metadata": {},
   "outputs": [],
   "source": [
    "eng_data = []\n",
    "fra_data = []\n",
    "for line in lines:\n",
    "    eng_line, fra_line, _ = line.split('\\t')\n",
    "    eng_line = normalizeString(eng_line)\n",
    "    fra_line = normalizeString(fra_line)\n",
    "    eng_data.append(eng_line)\n",
    "    fra_data.append(fra_line)"
   ]
  },
  {
   "cell_type": "code",
   "execution_count": 5,
   "metadata": {},
   "outputs": [],
   "source": [
    "with open(\"../prepared/fra-eng/eng.txt\", 'w') as f:\n",
    "    for line in eng_data:\n",
    "        f.write(line + '\\n')"
   ]
  },
  {
   "cell_type": "code",
   "execution_count": 6,
   "metadata": {},
   "outputs": [],
   "source": [
    "with open(\"../prepared/fra-eng/fra.txt\", 'w') as f:\n",
    "    for line in fra_data:\n",
    "        f.write(line + '\\n')"
   ]
  },
  {
   "cell_type": "code",
   "execution_count": null,
   "metadata": {},
   "outputs": [],
   "source": []
  },
  {
   "cell_type": "code",
   "execution_count": 6,
   "metadata": {},
   "outputs": [],
   "source": [
    "from sklearn.model_selection import train_test_split"
   ]
  },
  {
   "cell_type": "code",
   "execution_count": 10,
   "metadata": {},
   "outputs": [],
   "source": [
    "eng_train, eng_test, fra_train, fra_test = train_test_split(eng_data, fra_data, test_size=0.2)"
   ]
  },
  {
   "cell_type": "code",
   "execution_count": 13,
   "metadata": {},
   "outputs": [
    {
     "data": {
      "text/plain": [
       "(148466, 148466, 37117, 37117)"
      ]
     },
     "execution_count": 13,
     "metadata": {},
     "output_type": "execute_result"
    }
   ],
   "source": [
    "len(eng_train), len(fra_train), len(eng_test), len(fra_test)"
   ]
  },
  {
   "cell_type": "code",
   "execution_count": 14,
   "metadata": {},
   "outputs": [],
   "source": [
    "with open(\"../prepared/fra-eng/train/eng.txt\", 'w') as f:\n",
    "    for line in eng_train:\n",
    "        f.write(line + '\\n')\n",
    "with open(\"../prepared/fra-eng/train/fra.txt\", 'w') as f:\n",
    "    for line in fra_train:\n",
    "        f.write(line + '\\n')\n",
    "with open(\"../prepared/fra-eng/test/eng.txt\", 'w') as f:\n",
    "    for line in eng_test:\n",
    "        f.write(line + '\\n')\n",
    "with open(\"../prepared/fra-eng/test/fra.txt\", 'w') as f:\n",
    "    for line in fra_test:\n",
    "        f.write(line + '\\n')"
   ]
  },
  {
   "cell_type": "code",
   "execution_count": 1,
   "metadata": {},
   "outputs": [],
   "source": [
    "with open(\"../prepared/fra-eng/train/eng.txt\", 'r') as f:\n",
    "    eng_train = f.read().split('\\n')\n",
    "with open(\"../prepared/fra-eng/train/fra.txt\", 'r') as f:\n",
    "    fra_train = f.read().split('\\n')"
   ]
  },
  {
   "cell_type": "code",
   "execution_count": 3,
   "metadata": {},
   "outputs": [
    {
     "data": {
      "text/plain": [
       "148467"
      ]
     },
     "execution_count": 3,
     "metadata": {},
     "output_type": "execute_result"
    }
   ],
   "source": [
    "len(eng_train)"
   ]
  },
  {
   "cell_type": "code",
   "execution_count": 7,
   "metadata": {},
   "outputs": [],
   "source": [
    "_, eng_3k, _, fra_3k = train_test_split(eng_train, fra_train, test_size=0.02)"
   ]
  },
  {
   "cell_type": "code",
   "execution_count": 12,
   "metadata": {},
   "outputs": [],
   "source": [
    "with open(\"../prepared/fra-eng/train/eng_3k.txt\", 'w') as f:\n",
    "    for line in eng_3k:\n",
    "        f.write(line + '\\n')\n",
    "with open(\"../prepared/fra-eng/train/fra_3k.txt\", 'w') as f:\n",
    "    for line in fra_3k:\n",
    "        f.write(line + '\\n')"
   ]
  },
  {
   "cell_type": "code",
   "execution_count": null,
   "metadata": {},
   "outputs": [],
   "source": []
  }
 ],
 "metadata": {
  "kernelspec": {
   "display_name": "Python 3",
   "language": "python",
   "name": "python3"
  },
  "language_info": {
   "codemirror_mode": {
    "name": "ipython",
    "version": 3
   },
   "file_extension": ".py",
   "mimetype": "text/x-python",
   "name": "python",
   "nbconvert_exporter": "python",
   "pygments_lexer": "ipython3",
   "version": "3.7.6"
  }
 },
 "nbformat": 4,
 "nbformat_minor": 4
}
